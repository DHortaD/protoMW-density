{
 "cells": [
  {
   "cell_type": "code",
   "execution_count": 13,
   "id": "b8439512",
   "metadata": {},
   "outputs": [],
   "source": [
    "import numpy as np\n",
    "import matplotlib.pyplot as plt\n",
    "from astropy.io import fits\n",
    "\n",
    "#galpy loads\n",
    "import galpy\n",
    "from galpy.util import coords\n",
    "from galpy.potential import IsochronePotential\n",
    "from galpy.actionAngle import actionAngleIsochrone\n",
    "# from galpy.potential import MWPotential2014\n",
    "from galpy.actionAngle import actionAngleStaeckel\n",
    "from galpy.actionAngle import estimateDeltaStaeckel\n",
    "from astropy.io import fits\n",
    "import tqdm\n",
    "from galpy.orbit import Orbit\n",
    "from galpy.potential.mwpotentials import McMillan17\n",
    "from galpy.util.conversion import get_physical\n",
    "from galpy.actionAngle import UnboundError"
   ]
  },
  {
   "cell_type": "code",
   "execution_count": 14,
   "id": "d98b5a6e",
   "metadata": {},
   "outputs": [],
   "source": [
    "# LOAD THE DATA\n",
    "path = '/Users/dhortadarrington/Desktop/orbits_table_baumgardt.fits'\n",
    "tb = fits.open(path)\n",
    "data = tb[1].data "
   ]
  },
  {
   "cell_type": "code",
   "execution_count": 29,
   "id": "2f51f7b6",
   "metadata": {},
   "outputs": [],
   "source": [
    "def dat_to_galcen(dat,\n",
    "                  return_rphiz =True,\n",
    "                  verbose =False,\n",
    "                  ro = 8.275,  # GRAVITY 2018 value \n",
    "                  vo = 220.,   # GRAVITY 2018 value \n",
    "                  zo = 0.02,    # Bennet and Bovy 2018 value\n",
    "                  keys = ['RA', 'DEC', 'Rsun', 'mua', 'mud', 'RV'],\n",
    "                  #cov_keys = [dat['pmra_error_1'],dat['pmdec_error_1'],dat['SH_weighted_diststd'],dat['VERR_1']],\n",
    "                  parallax = False):\n",
    "    vxvv = np.dstack([dat[keys[i]] for i in range(len(keys))])[0]\n",
    "    ra, dec= vxvv[:,0], vxvv[:,1]\n",
    "    lb= coords.radec_to_lb(ra,dec,degree=True, epoch=None)\n",
    "    pmra, pmdec= vxvv[:,3], vxvv[:,4]\n",
    "    pmllpmbb= coords.pmrapmdec_to_pmllpmbb(pmra,pmdec,ra,dec,degree=True)\n",
    "    d, vlos= vxvv[:,2], vxvv[:,5]\n",
    "    if parallax:\n",
    "        d = 1./d\n",
    "    rectgal= coords.sphergal_to_rectgal(lb[:,0],lb[:,1],d,vlos,pmllpmbb[:,0], pmllpmbb[:,1],degree=True)\n",
    "    vsolar= np.array([-8.4,31.8,8.4]) # Values from Ted's halo paper, taken from Schrondich 2010 and adjusted given by the proper motion values for SGR A* by the GRAVITY collaboration. Vx is negative because we adopt the x convention to go in opposite direction\n",
    "    vsun= np.array([0.,1.,0.,])+vsolar/vo\n",
    "    X = rectgal[:,0]/ro\n",
    "    Y = rectgal[:,1]/ro\n",
    "    Z = rectgal[:,2]/ro\n",
    "    vx = rectgal[:,3]/vo\n",
    "    vy = rectgal[:,4]/vo\n",
    "    vz = rectgal[:,5]/vo\n",
    "    XYZ = np.dstack([X, Y, Z])[0]\n",
    "    vxyz = np.dstack([vx,vy,vz])[0]\n",
    "    Rpz = coords.XYZ_to_galcencyl(XYZ[:,0],XYZ[:,1],XYZ[:,2],Zsun=zo/ro)\n",
    "    vRvTvz = coords.vxvyvz_to_galcencyl(vxyz[:,0], vxyz[:,1], vxyz[:,2], Rpz[:,0], Rpz[:,1], Rpz[:,2],\n",
    "                                                                    vsun=vsun,\n",
    "                                                                    Xsun=1.,\n",
    "                                                                    Zsun=zo/ro,\n",
    "                                                                    galcen=True)\n",
    "    return XYZ, vxyz, Rpz, vRvTvz"
   ]
  },
  {
   "cell_type": "code",
   "execution_count": 30,
   "id": "6c3518ed",
   "metadata": {},
   "outputs": [],
   "source": [
    "XYZ, vxyz, Rpz, vRvTvz = dat_to_galcen(data)"
   ]
  },
  {
   "cell_type": "code",
   "execution_count": 31,
   "id": "0d15ccbd",
   "metadata": {},
   "outputs": [],
   "source": [
    "X = XYZ[:,0]*8.275\n",
    "Y = XYZ[:,1]*8.275\n",
    "Z = XYZ[:,1]*8.275\n",
    "\n",
    "R = Rpz[:,0]*8.275\n",
    "phi = Rpz[:,1]\n",
    "z = Rpz[:,1]*8.275\n",
    "\n",
    "vR = vRvTvz[:,0]*200.\n",
    "vphi = vRvTvz[:,1]*200.\n",
    "vz = vRvTvz[:,2]*200."
   ]
  },
  {
   "cell_type": "code",
   "execution_count": 33,
   "id": "29f3fca1",
   "metadata": {},
   "outputs": [
    {
     "data": {
      "text/plain": [
       "<matplotlib.collections.PathCollection at 0x321e9bca0>"
      ]
     },
     "execution_count": 33,
     "metadata": {},
     "output_type": "execute_result"
    },
    {
     "data": {
      "image/png": "[encoded data removed]",
      "text/plain": [
       "<Figure size 432x288 with 1 Axes>"
      ]
     },
     "metadata": {
      "needs_background": "light"
     },
     "output_type": "display_data"
    }
   ],
   "source": [
    "plt.scatter(R,phi,s=10)"
   ]
  },
  {
   "cell_type": "code",
   "execution_count": 11,
   "id": "b4c2f460",
   "metadata": {},
   "outputs": [],
   "source": [
    "# store all data it into one huge array\n",
    "rec = np.recarray(len(data['Cluster']), dtype=[('name',object),\n",
    "                                      ('X', float),\n",
    "                                      ('Y', float),\n",
    "                                      ('Z', float),\n",
    "                                      ('vx', float),\n",
    "                                      ('vy', float),\n",
    "                                      ('vz', float),\n",
    "                                      ('Rgal', float),\n",
    "                                      ('phi', float),\n",
    "                                      ('Zgal', float),\n",
    "                                      ('vR', float),\n",
    "                                      ('vT', float), #here U==vR, V==vT, W==vZ\n",
    "                                      ('vZ', float)])\n",
    "\n",
    "rec['name'] = data['Cluster']\n",
    "rec['X'] = XYZ[:,0]\n",
    "rec['Y'] = XYZ[:,1]\n",
    "rec['Z'] = XYZ[:,2]\n",
    "rec['vx'] = vxyz[:,0]\n",
    "rec['vy'] = vxyz[:,1]\n",
    "rec['vz'] = vxyz[:,2]\n",
    "rec['Rgal'] = Rpz[:,0]\n",
    "rec['phi'] = Rpz[:,1]\n",
    "rec['Zgal'] = Rpz[:,2]\n",
    "rec['vR'] = vRvTvz[:,0]\n",
    "rec['vT'] = vRvTvz[:,1]\n",
    "rec['vZ'] = vRvTvz[:,2]\n",
    "\n",
    "# savepath = 'some_directory'\n",
    "# filename = 'some_file_name'\n",
    "\n",
    "# np.savetxt(savepath+filename+'.txt',rec,delimiter=',', header = 'Name,X,Y,Z,vx,vy,vz,Rgal,phi,Zgal,vR,vT,vZ',fmt='%s,%f,%f,%f,%f,%f,%f,%f,%f,%f,%f,%f,%f', comments='')\n"
   ]
  },
  {
   "cell_type": "code",
   "execution_count": null,
   "id": "4449ff12",
   "metadata": {},
   "outputs": [],
   "source": []
  }
 ],
 "metadata": {
  "kernelspec": {
   "display_name": "Python 3 (ipykernel)",
   "language": "python",
   "name": "python3"
  },
  "language_info": {
   "codemirror_mode": {
    "name": "ipython",
    "version": 3
   },
   "file_extension": ".py",
   "mimetype": "text/x-python",
   "name": "python",
   "nbconvert_exporter": "python",
   "pygments_lexer": "ipython3",
   "version": "3.9.12"
  }
 },
 "nbformat": 4,
 "nbformat_minor": 5
}
