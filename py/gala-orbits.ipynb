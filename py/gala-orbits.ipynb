{
 "cells": [
  {
   "cell_type": "code",
   "execution_count": 2,
   "id": "8fd10d2e",
   "metadata": {},
   "outputs": [],
   "source": [
    "# get the rapos using gala and APW's new potential\n",
    "\n",
    "# Third-party\n",
    "import astropy.coordinates as coord\n",
    "import astropy.units as u\n",
    "import matplotlib.pyplot as plt\n",
    "import numpy as np\n",
    "from astropy.io import fits\n",
    "\n",
    "# Gala\n",
    "import gala.dynamics as gd\n",
    "import gala.potential as gp"
   ]
  },
  {
   "cell_type": "code",
   "execution_count": 3,
   "id": "fe916a49",
   "metadata": {},
   "outputs": [
    {
     "name": "stdout",
     "output_type": "stream",
     "text": [
      "733900\n"
     ]
    }
   ],
   "source": [
    "# LOAD THE DATA\n",
    "path = '/Users/dhortadarrington/Documents/Master/data/dr17_dr3_McMillan_astroNN_rev1.fits'\n",
    "tb = fits.open(path)\n",
    "data = tb[1].data \n",
    "\n",
    "print(len(data))"
   ]
  },
  {
   "cell_type": "code",
   "execution_count": 4,
   "id": "20a2d2e2",
   "metadata": {},
   "outputs": [
    {
     "name": "stdout",
     "output_type": "stream",
     "text": [
      "194257 4531\n"
     ]
    }
   ],
   "source": [
    "mask = np.load('../sav/mask_parent.npy', allow_pickle=True)\n",
    "mask_une = np.load('../sav/mask_unevolved.npy', allow_pickle=True)\n",
    "print(len(data[mask]), len(data[mask&mask_une]))"
   ]
  },
  {
   "cell_type": "code",
   "execution_count": 5,
   "id": "437a9de7",
   "metadata": {},
   "outputs": [],
   "source": [
    "coord.galactocentric_frame_defaults.set(\"v4.0\")\n",
    "potential = gp.MilkyWayPotential2022()"
   ]
  },
  {
   "cell_type": "code",
   "execution_count": 6,
   "id": "f81effa9",
   "metadata": {},
   "outputs": [],
   "source": [
    "icrs = coord.SkyCoord(\n",
    "    ra=data['RA'][mask&mask_une]*u.degree,\n",
    "    dec=data['DEC'][mask&mask_une]*u.degree,\n",
    "    distance=data['weighted_dist'][mask&mask_une]*u.pc,\n",
    "    pm_ra_cosdec=data['pmra'][mask&mask_une]* u.mas / u.yr,\n",
    "    pm_dec=data['pmdec'][mask&mask_une] * u.mas / u.yr,\n",
    "    radial_velocity=data['VHELIO_AVG'][mask&mask_une] * u.km / u.s,\n",
    ")\n",
    "\n",
    "icrs_err = coord.SkyCoord(\n",
    "    ra=0 * u.deg,\n",
    "    dec=0 * u.deg,\n",
    "    distance=data['weighted_dist_error'][mask&mask_une] * u.pc,\n",
    "    pm_ra_cosdec=data['pmra_error'][mask&mask_une] * u.mas / u.yr,\n",
    "    pm_dec=data['pmdec_error'][mask&mask_une] * u.mas / u.yr,\n",
    "    radial_velocity=data['VSCATTER'][mask&mask_une] * u.km / u.s,\n",
    ")\n"
   ]
  },
  {
   "cell_type": "code",
   "execution_count": 7,
   "id": "521dc680",
   "metadata": {},
   "outputs": [],
   "source": [
    "galcen_frame = coord.Galactocentric()\n",
    "galcen_frame\n",
    "galcen = icrs.transform_to(galcen_frame)"
   ]
  },
  {
   "cell_type": "code",
   "execution_count": 8,
   "id": "9133e5ce",
   "metadata": {},
   "outputs": [
    {
     "data": {
      "text/plain": [
       "<CartesianDifferential (d_x, d_y, d_z) in km / s\n",
       "    [(-100.76898062,  46.97190042, -40.76258035),\n",
       "     (-215.06525914, -37.15095514, -44.27580832),\n",
       "     (-135.09172588, -17.59141553,  16.27045363), ...,\n",
       "     ( 144.82953823, -20.58761211, 175.79544541),\n",
       "     (   0.42564992,  33.12302176, -64.95558503),\n",
       "     (   0.86988818,  73.26048616,  59.36251645)]>"
      ]
     },
     "execution_count": 8,
     "metadata": {},
     "output_type": "execute_result"
    }
   ],
   "source": [
    "galcen.velocity"
   ]
  },
  {
   "cell_type": "code",
   "execution_count": 9,
   "id": "26427916",
   "metadata": {},
   "outputs": [],
   "source": [
    "w0 = gd.PhaseSpacePosition(galcen.data)\n",
    "orbit = potential.integrate_orbit(w0, dt=-0.5 * u.Myr, n_steps=10000)\n"
   ]
  },
  {
   "cell_type": "code",
   "execution_count": null,
   "id": "986ab3d5",
   "metadata": {},
   "outputs": [],
   "source": [
    "orbit."
   ]
  },
  {
   "cell_type": "code",
   "execution_count": 10,
   "id": "5ba4ccbc",
   "metadata": {},
   "outputs": [
    {
     "name": "stderr",
     "output_type": "stream",
     "text": [
      "/Users/dhortadarrington/opt/anaconda3/lib/python3.9/site-packages/numpy/core/fromnumeric.py:3464: RuntimeWarning: Mean of empty slice.\n",
      "  return _methods._mean(a, axis=axis, dtype=dtype,\n",
      "/Users/dhortadarrington/opt/anaconda3/lib/python3.9/site-packages/numpy/core/_methods.py:192: RuntimeWarning: invalid value encountered in scalar divide\n",
      "  ret = ret.dtype.type(ret / rcount)\n"
     ]
    }
   ],
   "source": [
    "# rads = np.sqrt(Rgal**2+Zgal**2)\n",
    "rapo = np.array(orbit.apocenter())\n",
    "rperi = np.array(orbit.pericenter())\n",
    "ecc = np.array(orbit.eccentricity())\n",
    "zmax = np.array(orbit.zmax())\n",
    "# actions = np.array(orbit.actions())\n",
    "# frequencies = np.array(orbit.frequencies())\n",
    "# angles = np.array(orbit.angles())\n"
   ]
  },
  {
   "cell_type": "code",
   "execution_count": 11,
   "id": "b0bcd302",
   "metadata": {},
   "outputs": [],
   "source": [
    "np.save('../sav/rapo_gala', rapo)\n",
    "np.save('../sav/rperi_gala', rperi)\n",
    "np.save('../sav/zmax_gala', zmax)\n",
    "np.save('../sav/ecc_gala', ecc)\n",
    "# np.save('../sav/actions_gala', actions)\n",
    "# np.save('../sav/frequencies_gala', np.array(orbit.eccentricity()))\n",
    "# np.save('../sav/angles_gala', np.array(orbit.eccentricity()))\n"
   ]
  },
  {
   "cell_type": "code",
   "execution_count": null,
   "id": "64d0b54e",
   "metadata": {},
   "outputs": [],
   "source": []
  }
 ],
 "metadata": {
  "kernelspec": {
   "display_name": "Python 3 (ipykernel)",
   "language": "python",
   "name": "python3"
  },
  "language_info": {
   "codemirror_mode": {
    "name": "ipython",
    "version": 3
   },
   "file_extension": ".py",
   "mimetype": "text/x-python",
   "name": "python",
   "nbconvert_exporter": "python",
   "pygments_lexer": "ipython3",
   "version": "3.9.12"
  }
 },
 "nbformat": 4,
 "nbformat_minor": 5
}
